{
 "cells": [
  {
   "cell_type": "code",
   "execution_count": 3,
   "id": "59692695",
   "metadata": {},
   "outputs": [
    {
     "name": "stdout",
     "output_type": "stream",
     "text": [
      "            ID  LATITUDE  LONGITUDE  ELEVATION STATE                 NAME  \\\n",
      "0  AE000041196    25.333     55.517       34.0   NaN  SHARJAH INTER. AIRP   \n",
      "1  AEM00041194    25.255     55.364       10.4   NaN           DUBAI INTL   \n",
      "2  AEM00041217    24.433     54.651       26.8   NaN       ABU DHABI INTL   \n",
      "3  AEM00041218    24.262     55.609      264.9   NaN          AL AIN INTL   \n",
      "4  AFM00040990    31.500     65.850     1010.0   NaN     KANDAHAR AIRPORT   \n",
      "\n",
      "  GSNFLAG HCNFLAG    WMOID             x             y  \\\n",
      "0     GSN     NaN  41196.0  5.579578e+06  2.816905e+06   \n",
      "1     NaN     NaN  41194.0  5.567782e+06  2.808232e+06   \n",
      "2     NaN     NaN  41217.0  5.532707e+06  2.716829e+06   \n",
      "3     NaN     NaN  41218.0  5.637301e+06  2.697815e+06   \n",
      "4     NaN     NaN  40990.0  6.243199e+06  3.502645e+06   \n",
      "\n",
      "                                  x_group  \\\n",
      "0  5497601.479782179 to 5594934.908498545   \n",
      "1  5497601.479782179 to 5594934.908498545   \n",
      "2  5497601.479782179 to 5594934.908498545   \n",
      "3   5594934.908498544 to 5692268.33721491   \n",
      "4  6178935.480796736 to 6276268.909513102   \n",
      "\n",
      "                                   y_group  \\\n",
      "0   2772265.475723952 to 2869598.904440318   \n",
      "1   2772265.475723952 to 2869598.904440318   \n",
      "2  2674932.047007587 to 2772265.4757239525   \n",
      "3  2674932.047007587 to 2772265.4757239525   \n",
      "4  3453599.476738509 to 3550932.9054548745   \n",
      "\n",
      "                                            xy_group  \\\n",
      "0  5497601.479782179 to 5594934.908498545, 277226...   \n",
      "1  5497601.479782179 to 5594934.908498545, 277226...   \n",
      "2  5497601.479782179 to 5594934.908498545, 267493...   \n",
      "3  5594934.908498544 to 5692268.33721491, 2674932...   \n",
      "4  6178935.480796736 to 6276268.909513102, 345359...   \n",
      "\n",
      "                                                hash  \n",
      "0  1f6f0e89f4e937d934fe9acde2545e0d66bbcfe3b66320...  \n",
      "1  1f6f0e89f4e937d934fe9acde2545e0d66bbcfe3b66320...  \n",
      "2  35c9093084d26708afc5b482ea15ba52e3f20fb7cd781f...  \n",
      "3  2a6a7edad90579049fd1b3c3a990e8a8be90cb1975118e...  \n",
      "4  039e75bbef55baa3fecc0568dc3b245666a98b1bcba6b4...  \n"
     ]
    }
   ],
   "source": [
    "import pandas as pd\n",
    "binSize = pd.read_csv('E:/machine_test/BinSize.csv')\n",
    "print(binSize.head(5))"
   ]
  },
  {
   "cell_type": "code",
   "execution_count": null,
   "id": "0da353cd",
   "metadata": {},
   "outputs": [],
   "source": []
  }
 ],
 "metadata": {
  "kernelspec": {
   "display_name": "Python 3",
   "language": "python",
   "name": "python3"
  },
  "language_info": {
   "codemirror_mode": {
    "name": "ipython",
    "version": 3
   },
   "file_extension": ".py",
   "mimetype": "text/x-python",
   "name": "python",
   "nbconvert_exporter": "python",
   "pygments_lexer": "ipython3",
   "version": "3.8.8"
  }
 },
 "nbformat": 4,
 "nbformat_minor": 5
}
